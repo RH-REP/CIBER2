{
 "cells": [
  {
   "cell_type": "code",
   "execution_count": 1,
   "id": "de1055af",
   "metadata": {},
   "outputs": [],
   "source": [
    "import os\n",
    "import glob\n",
    "import matplotlib.pyplot as plt\n",
    "import spec_reader\n",
    "import importlib\n",
    "importlib.reload(spec_reader.irradiance)\n",
    "import numpy as np\n"
   ]
  },
  {
   "cell_type": "code",
   "execution_count": 2,
   "id": "02288642",
   "metadata": {},
   "outputs": [],
   "source": [
    "import csv\n",
    "\n",
    "# path = './spec_reader/spec_lib/angle_vs_sensitivity/long.csv'\n",
    "# with open(path,\"r\") as csvfile:\n",
    "#     reader = csv.reader(csvfile)\n",
    "#     rawData = [np.array(list(map(float, row))) for row in reader]\n",
    "# rawData_np = np.array(rawData)\n",
    "# print(rawData_np)\n",
    "# a =(['10,20')\n",
    "\n",
    "# raw = np.array(list(map(float, a)))\n",
    "# print(raw)\n",
    "# a_np = np.array(a,dtype = np.float32)\n",
    "\n",
    "# print(a_np)\n"
   ]
  },
  {
   "cell_type": "code",
   "execution_count": 3,
   "id": "6871befc",
   "metadata": {
    "scrolled": true
   },
   "outputs": [],
   "source": [
    "# home_directory = os.environ['HOME']\n",
    "# datadirectory = home_directory + '/spectrometer/SL/20200919/*/'\n",
    "# measuredFiles = glob.glob(datadirectory +\"3ms*\")\n",
    "# bgFiles = glob.glob(datadirectory +\"BG_3ms*\")\n",
    "# cal_class = spec_reader.spec_calibration.CalibrationClass(measuredFiles,bgFiles)\n",
    "# x, y = cal_class.saveCF()\n",
    "# plt.scatter(x[100:],y[100:])\n",
    "# plt.xlabel(\"waves[nm]\")_\n",
    "# plt.ylabel(\"CF\")\n",
    "# plt.show()"
   ]
  },
  {
   "cell_type": "code",
   "execution_count": 4,
   "id": "633c512a",
   "metadata": {},
   "outputs": [],
   "source": [
    "# home_directory = os.environ['HOME']\n",
    "# datadirectory = home_directory + '/spectrometer/calibration_data/20210118/cosSp2-F1/0deg/'\n",
    "# measuredFiles = glob.glob(datadirectory +\"3ms*\")\n",
    "# bgFiles = glob.glob(datadirectory +\"BG_3ms*\")\n",
    "# irradiance_data = spec_reader.irradiance.IrradianceClass(measuredFiles,bgFiles,angle_csv='matsumi40deg.csv')\n",
    "# irradiance_data.show_wave_and_irradiance()"
   ]
  },
  {
   "cell_type": "code",
   "execution_count": 5,
   "id": "7a43a1cb",
   "metadata": {
    "scrolled": true
   },
   "outputs": [
    {
     "name": "stdout",
     "output_type": "stream",
     "text": [
      "0.9988631487756585\n"
     ]
    },
    {
     "data": {
      "text/plain": [
       "(<Figure size 432x288 with 1 Axes>,\n",
       " <AxesSubplot:xlabel='wavelength[nm]', ylabel='Absolute Irradiance [uW/cm^2/nm]'>)"
      ]
     },
     "execution_count": 5,
     "metadata": {},
     "output_type": "execute_result"
    },
    {
     "data": {
      "image/png": "[encoded data removed]",
      "text/plain": [
       "<Figure size 432x288 with 1 Axes>"
      ]
     },
     "metadata": {
      "needs_background": "light"
     },
     "output_type": "display_data"
    }
   ],
   "source": [
    "importlib.reload(spec_reader.spec_reader)\n",
    "\n",
    "home_directory = os.environ['HOME']\n",
    "datadirectory = home_directory + '/spectrometer/wsmr_measurement/20210528_WSMR1/'\n",
    "measuredFiles = glob.glob(datadirectory +\"0mm*\")\n",
    "bgFiles = glob.glob(datadirectory +\"BG_0mm*\")\n",
    "irradiance_data = spec_reader.irradiance.IrradianceClass(measuredFiles,bgFiles,angle_csv='matsumi40deg.csv')\n",
    "irradiance_data.show_wave_and_irradiance()\n"
   ]
  },
  {
   "cell_type": "code",
   "execution_count": 6,
   "id": "14fb0290",
   "metadata": {},
   "outputs": [],
   "source": [
    "importlib.reload(spec_reader.spec_reader)\n",
    "\n",
    "irradiance_book = {}\n",
    "\n",
    "dist_np = np.array([0,50,100,150,200,250,300])\n",
    "dist = [\"0mm\",\"50mm\",\"100mm\",\"150mm\",\"200mm\",\"250mm\",\"300mm\"]\n",
    "\n",
    "home_directory = os.environ['HOME']\n",
    "datadirectory = home_directory + '/spectrometer/wsmr_measurement/20210528_WSMR1/'\n",
    "for d in dist:\n",
    "    measuredFiles = glob.glob(datadirectory +d +\"*\")\n",
    "    bgFiles = glob.glob(datadirectory +\"BG_\"+d+\"*\")\n",
    "    irradiance_book[d]= spec_reader.irradiance.IrradianceClass(measuredFiles,bgFiles,angle_csv='matsumi40deg.csv')\n",
    "\n",
    "\n"
   ]
  },
  {
   "cell_type": "code",
   "execution_count": 9,
   "id": "70145ac5",
   "metadata": {},
   "outputs": [
    {
     "name": "stdout",
     "output_type": "stream",
     "text": [
      "[[nan nan nan ... nan nan nan]\n",
      " [nan nan nan ... nan nan nan]\n",
      " [nan nan nan ... nan nan nan]\n",
      " ...\n",
      " [nan nan nan ... nan nan nan]\n",
      " [nan nan nan ... nan nan nan]\n",
      " [nan nan nan ... nan nan nan]]\n",
      "caliculating  0 0mm\n",
      "0.9988631487756585\n",
      "caliculating  1 50mm\n",
      "0.9988631487756585\n",
      "caliculating  2 100mm\n",
      "0.9988631487756585\n",
      "caliculating  3 150mm\n",
      "0.9988631487756585\n",
      "caliculating  4 200mm\n",
      "0.9988631487756585\n",
      "caliculating  5 250mm\n",
      "0.9988631487756585\n",
      "caliculating  6 300mm\n",
      "0.9988631487756585\n",
      "[0.00100637 0.00106767 0.00107825 0.00103815 0.00099915 0.00075982\n",
      " 0.00066531]\n",
      "[  0  50 100 150 200 250 300]\n"
     ]
    },
    {
     "data": {
      "text/plain": [
       "<matplotlib.collections.PathCollection at 0x7f3f4e685a58>"
      ]
     },
     "execution_count": 9,
     "metadata": {},
     "output_type": "execute_result"
    },
    {
     "data": {
      "image/png": "[encoded data removed]",
      "text/plain": [
       "<Figure size 432x288 with 1 Axes>"
      ]
     },
     "metadata": {
      "needs_background": "light"
     },
     "output_type": "display_data"
    }
   ],
   "source": [
    "irradiance =np.full((len(dist),2048),np.nan)\n",
    "for i,d in enumerate(dist):\n",
    "    print(\"caliculating \",i,d)\n",
    "    w,irradiance[i] =irradiance_book[d].calc_wave_and_irradiance()\n",
    "\n",
    "irradiance = irradiance/irradiance[0]\n",
    "plt.scatter(dist_np,np.average(irradiance[:,800:1400],axis=1))\n"
   ]
  },
  {
   "cell_type": "code",
   "execution_count": null,
   "id": "db0e9b1c",
   "metadata": {},
   "outputs": [],
   "source": []
  }
 ],
 "metadata": {
  "kernelspec": {
   "display_name": "Python 3",
   "language": "python",
   "name": "python3"
  },
  "language_info": {
   "codemirror_mode": {
    "name": "ipython",
    "version": 3
   },
   "file_extension": ".py",
   "mimetype": "text/x-python",
   "name": "python",
   "nbconvert_exporter": "python",
   "pygments_lexer": "ipython3",
   "version": "3.6.8"
  }
 },
 "nbformat": 4,
 "nbformat_minor": 5
}
