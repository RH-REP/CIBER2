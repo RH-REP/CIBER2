{
 "cells": [
  {
   "cell_type": "code",
   "execution_count": 4,
   "id": "ee2d9ca2",
   "metadata": {},
   "outputs": [
    {
     "name": "stdout",
     "output_type": "stream",
     "text": [
      "[112951, 113206, 113321, 113411, 113507]\n",
      "[113133, 113231, 113346, 113434, 113531]\n",
      "[113616, 113723, 113845, 113946, 114052]\n",
      "[113656, 113815, 113915, 114019, 114121]\n",
      "[114221, 114431, 114616, 114803, 114955, 115228, 115505, 120012, 120429, 120818]\n",
      "[114338, 114524, 114710, 114856, 115120, 115346, 115833, 120141, 120551, 123023]\n",
      "[123239, 123632, 124012, 124359, 124725]\n",
      "[123443, 123815, 124214, 124542, 124909]\n",
      "[131457, 131118, 131212, 131306, 131359, 132433, 132528, 132718, 132812, 132906]\n",
      "[None, None, None, None, None, None, None, None, None, None]\n",
      "[131559, 131630, 131656, 131727, 131800]\n",
      "[None, None, None, None, None]\n",
      "[142348, 142455, 142557, 142653, 142802]\n",
      "[142422, 142526, 142624, 142731, 142841]\n",
      "[144437, 144546, 144651, 144753, 144903]\n",
      "[144503, 144614, 144718, 144818, 144943]\n",
      "[150303, 150359, 150609, 150705, 150802]\n",
      "[150331, 150427, 150638, 150734, 150834]\n",
      "[151323, 151618, 151922]\n",
      "[None, None, None]\n",
      "[152233, 153052, 153355]\n",
      "[None, None, None]\n",
      "[153658, 153957, 154306]\n",
      "[None, None, None]\n",
      "[154613, 154915, 155729]\n",
      "[None, None, None]\n"
     ]
    }
   ],
   "source": [
    "import os\n",
    "from fitsReader import book\n",
    "from fitsReader import fitsReader\n",
    "import importlib\n",
    "import glob\n",
    "importlib.reload(fitsReader)\n",
    "\n",
    "\n",
    "home_directory = os.environ['HOME']\n",
    "season_name = \"/WSMR2021May\"\n",
    "experiment_name = \"/abs_calib/vis\"\n",
    "experiment_directory = home_directory + season_name + experiment_name\n",
    "exp_book = book.Get_experiment_book(experiment_directory)\n",
    "\n",
    "for d,v in exp_book._fitDataDict.items():\n",
    "    print(v._dataSet)\n",
    "    print(v._bg_dataSet)"
   ]
  },
  {
   "cell_type": "code",
   "execution_count": 2,
   "id": "659cda3f",
   "metadata": {},
   "outputs": [
    {
     "ename": "NameError",
     "evalue": "name 'book' is not defined",
     "output_type": "error",
     "traceback": [
      "\u001b[0;31m---------------------------------------------------------------------------\u001b[0m",
      "\u001b[0;31mNameError\u001b[0m                                 Traceback (most recent call last)",
      "\u001b[0;32m<ipython-input-2-0705299b3a10>\u001b[0m in \u001b[0;36m<module>\u001b[0;34m\u001b[0m\n\u001b[0;32m----> 1\u001b[0;31m \u001b[0mbook\u001b[0m\u001b[0;34m.\u001b[0m\u001b[0mshow_all_configurations\u001b[0m\u001b[0;34m(\u001b[0m\u001b[0;34m)\u001b[0m\u001b[0;34m\u001b[0m\u001b[0;34m\u001b[0m\u001b[0m\n\u001b[0m\u001b[1;32m      2\u001b[0m \u001b[0mbook\u001b[0m\u001b[0;34m.\u001b[0m\u001b[0mshow_experiment_directory\u001b[0m\u001b[0;34m(\u001b[0m\u001b[0;34m\"OD0\"\u001b[0m\u001b[0;34m,\u001b[0m\u001b[0;34m\"ch2\"\u001b[0m\u001b[0;34m)\u001b[0m\u001b[0;34m\u001b[0m\u001b[0;34m\u001b[0m\u001b[0m\n\u001b[1;32m      3\u001b[0m \u001b[0;34m\u001b[0m\u001b[0m\n\u001b[1;32m      4\u001b[0m \u001b[0;31m# ch_name = \"/ch3\"\u001b[0m\u001b[0;34m\u001b[0m\u001b[0;34m\u001b[0m\u001b[0;34m\u001b[0m\u001b[0m\n\u001b[1;32m      5\u001b[0m \u001b[0;31m# print(book.get_fits_class(\"OD0\"))\u001b[0m\u001b[0;34m\u001b[0m\u001b[0;34m\u001b[0m\u001b[0;34m\u001b[0m\u001b[0m\n",
      "\u001b[0;31mNameError\u001b[0m: name 'book' is not defined"
     ]
    }
   ],
   "source": [
    "\n",
    "exp_book.show_all_configurations()\n",
    "exp_book.show_experiment_directory(\"OD0\",\"ch2\")\n",
    "\n",
    "# ch_name = \"/ch3\"\n",
    "# print(book.get_fits_class(\"OD0\"))\n",
    "# for number in book.get_fits_class(\"OD0\").get_data_numbers():\n",
    "#     folder_name = glob.glob(experiment_directory +\"/frames\"+ ch_name +\"/*\" + str(number)+ \"/*PIX.fts\" )\n",
    "#     print(folder_name)\n"
   ]
  },
  {
   "cell_type": "code",
   "execution_count": null,
   "id": "5671c601",
   "metadata": {},
   "outputs": [],
   "source": []
  }
 ],
 "metadata": {
  "kernelspec": {
   "display_name": "Python 3",
   "language": "python",
   "name": "python3"
  },
  "language_info": {
   "codemirror_mode": {
    "name": "ipython",
    "version": 3
   },
   "file_extension": ".py",
   "mimetype": "text/x-python",
   "name": "python",
   "nbconvert_exporter": "python",
   "pygments_lexer": "ipython3",
   "version": "3.6.8"
  }
 },
 "nbformat": 4,
 "nbformat_minor": 5
}
