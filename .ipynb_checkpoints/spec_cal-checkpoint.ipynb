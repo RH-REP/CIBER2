{
 "cells": [
  {
   "cell_type": "code",
   "execution_count": 5,
   "id": "127bae95",
   "metadata": {},
   "outputs": [
    {
     "name": "stdout",
     "output_type": "stream",
     "text": [
      "['/home/ciber2/spectrometer/spectrometerOI/SL/20210118/cosSp2-L1/0deg/3ms_3rd_FLMS181671_16-14-04-233.txt', '/home/ciber2/spectrometer/spectrometerOI/SL/20210118/cosSp2-L1/0deg/3ms_3rd_FLMS181671_16-14-04-175.txt', '/home/ciber2/spectrometer/spectrometerOI/SL/20210118/cosSp2-L1/0deg/3ms_3rd_FLMS181671_16-14-04-163.txt', '/home/ciber2/spectrometer/spectrometerOI/SL/20210118/cosSp2-L1/0deg/3ms_3rd_FLMS181671_16-14-04-210.txt', '/home/ciber2/spectrometer/spectrometerOI/SL/20210118/cosSp2-L1/0deg/3ms_2nd_FLMS181671_16-12-25-155.txt', '/home/ciber2/spectrometer/spectrometerOI/SL/20210118/cosSp2-L1/0deg/3ms_3rd_FLMS181671_16-14-04-186.txt', '/home/ciber2/spectrometer/spectrometerOI/SL/20210118/cosSp2-L1/0deg/3ms_1st_FLMS181671_16-09-14-396.txt', '/home/ciber2/spectrometer/spectrometerOI/SL/20210118/cosSp2-L1/0deg/3ms_1st_FLMS181671_16-09-14-372.txt', '/home/ciber2/spectrometer/spectrometerOI/SL/20210118/cosSp2-L1/0deg/3ms_2nd_FLMS181671_16-12-25-197.txt', '/home/ciber2/spectrometer/spectrometerOI/SL/20210118/cosSp2-L1/0deg/3ms_2nd_FLMS181671_16-12-25-209.txt', '/home/ciber2/spectrometer/spectrometerOI/SL/20210118/cosSp2-L1/0deg/3ms_1st_FLMS181671_16-09-14-316.txt', '/home/ciber2/spectrometer/spectrometerOI/SL/20210118/cosSp2-L1/0deg/3ms_3rd_FLMS181671_16-14-04-222.txt', '/home/ciber2/spectrometer/spectrometerOI/SL/20210118/cosSp2-L1/0deg/3ms_2nd_FLMS181671_16-12-25-161.txt', '/home/ciber2/spectrometer/spectrometerOI/SL/20210118/cosSp2-L1/0deg/3ms_2nd_FLMS181671_16-12-25-223.txt', '/home/ciber2/spectrometer/spectrometerOI/SL/20210118/cosSp2-L1/0deg/3ms_2nd_FLMS181671_16-12-25-256.txt', '/home/ciber2/spectrometer/spectrometerOI/SL/20210118/cosSp2-L1/0deg/3ms_1st_FLMS181671_16-09-14-339.txt', '/home/ciber2/spectrometer/spectrometerOI/SL/20210118/cosSp2-L1/0deg/3ms_2nd_FLMS181671_16-12-25-173.txt', '/home/ciber2/spectrometer/spectrometerOI/SL/20210118/cosSp2-L1/0deg/3ms_3rd_FLMS181671_16-14-04-198.txt', '/home/ciber2/spectrometer/spectrometerOI/SL/20210118/cosSp2-L1/0deg/3ms_1st_FLMS181671_16-09-14-384.txt', '/home/ciber2/spectrometer/spectrometerOI/SL/20210118/cosSp2-L1/0deg/3ms_1st_FLMS181671_16-09-14-408.txt', '/home/ciber2/spectrometer/spectrometerOI/SL/20210118/cosSp2-L1/0deg/3ms_3rd_FLMS181671_16-14-04-245.txt', '/home/ciber2/spectrometer/spectrometerOI/SL/20210118/cosSp2-L1/0deg/3ms_1st_FLMS181671_16-09-14-361.txt', '/home/ciber2/spectrometer/spectrometerOI/SL/20210118/cosSp2-L1/0deg/3ms_2nd_FLMS181671_16-12-25-185.txt', '/home/ciber2/spectrometer/spectrometerOI/SL/20210118/cosSp2-L1/0deg/3ms_3rd_FLMS181671_16-14-04-270.txt', '/home/ciber2/spectrometer/spectrometerOI/SL/20210118/cosSp2-L1/0deg/3ms_1st_FLMS181671_16-09-14-420.txt', '/home/ciber2/spectrometer/spectrometerOI/SL/20210118/cosSp2-L1/0deg/3ms_1st_FLMS181671_16-09-14-327.txt', '/home/ciber2/spectrometer/spectrometerOI/SL/20210118/cosSp2-L1/0deg/3ms_3rd_FLMS181671_16-14-04-257.txt', '/home/ciber2/spectrometer/spectrometerOI/SL/20210118/cosSp2-L1/0deg/3ms_2nd_FLMS181671_16-12-25-245.txt', '/home/ciber2/spectrometer/spectrometerOI/SL/20210118/cosSp2-L1/0deg/3ms_1st_FLMS181671_16-09-14-350.txt', '/home/ciber2/spectrometer/spectrometerOI/SL/20210118/cosSp2-L1/0deg/3ms_2nd_FLMS181671_16-12-25-234.txt']\n"
     ]
    },
    {
     "ename": "PermissionError",
     "evalue": "[Errno 13] Permission denied: '/home/ciber2/python/main/calibration/spec_reader/spec_lib/cal/specOI/2021-07-08-cossp2-F1.cal'",
     "output_type": "error",
     "traceback": [
      "\u001b[0;31m---------------------------------------------------------------------------\u001b[0m",
      "\u001b[0;31mPermissionError\u001b[0m                           Traceback (most recent call last)",
      "\u001b[0;32m<ipython-input-5-ad564f1b5c8d>\u001b[0m in \u001b[0;36m<module>\u001b[0;34m\u001b[0m\n\u001b[1;32m     19\u001b[0m \u001b[0mbgFiles\u001b[0m \u001b[0;34m=\u001b[0m \u001b[0mglob\u001b[0m\u001b[0;34m.\u001b[0m\u001b[0mglob\u001b[0m\u001b[0;34m(\u001b[0m\u001b[0mdatadirectory\u001b[0m \u001b[0;34m+\u001b[0m\u001b[0;34m\"BG_3ms*\"\u001b[0m\u001b[0;34m)\u001b[0m\u001b[0;34m\u001b[0m\u001b[0;34m\u001b[0m\u001b[0m\n\u001b[1;32m     20\u001b[0m \u001b[0mcal_class\u001b[0m \u001b[0;34m=\u001b[0m \u001b[0mspec_reader\u001b[0m\u001b[0;34m.\u001b[0m\u001b[0mspec_calibration\u001b[0m\u001b[0;34m.\u001b[0m\u001b[0mCalibrationClass\u001b[0m\u001b[0;34m(\u001b[0m\u001b[0mmeasuredFiles\u001b[0m\u001b[0;34m,\u001b[0m\u001b[0mbgFiles\u001b[0m\u001b[0;34m,\u001b[0m\u001b[0;34m)\u001b[0m\u001b[0;34m\u001b[0m\u001b[0;34m\u001b[0m\u001b[0m\n\u001b[0;32m---> 21\u001b[0;31m \u001b[0mcal_class\u001b[0m\u001b[0;34m.\u001b[0m\u001b[0msaveCF\u001b[0m\u001b[0;34m(\u001b[0m\u001b[0;34m\"specOI\"\u001b[0m\u001b[0;34m,\u001b[0m\u001b[0;34m\"cossp2-F1\"\u001b[0m\u001b[0;34m)\u001b[0m\u001b[0;34m\u001b[0m\u001b[0;34m\u001b[0m\u001b[0m\n\u001b[0m",
      "\u001b[0;32m~/python/main/calibration/spec_reader/spec_calibration.py\u001b[0m in \u001b[0;36msaveCF\u001b[0;34m(self, spec_name, config_name)\u001b[0m\n\u001b[1;32m     32\u001b[0m         \u001b[0;31m# write_string = np_to_string\u001b[0m\u001b[0;34m\u001b[0m\u001b[0;34m\u001b[0m\u001b[0;34m\u001b[0m\u001b[0m\n\u001b[1;32m     33\u001b[0m         \u001b[0mwrite_string\u001b[0m \u001b[0;34m=\u001b[0m \u001b[0;34m\" \"\u001b[0m \u001b[0;34m+\u001b[0m \u001b[0mnp_to_string\u001b[0m\u001b[0;34m.\u001b[0m\u001b[0mreplace\u001b[0m\u001b[0;34m(\u001b[0m\u001b[0;34m\"[\"\u001b[0m\u001b[0;34m,\u001b[0m\u001b[0;34m\"\"\u001b[0m\u001b[0;34m)\u001b[0m\u001b[0;34m.\u001b[0m\u001b[0mreplace\u001b[0m\u001b[0;34m(\u001b[0m\u001b[0;34m\"]\"\u001b[0m\u001b[0;34m,\u001b[0m\u001b[0;34m\"\"\u001b[0m\u001b[0;34m)\u001b[0m\u001b[0;34m.\u001b[0m\u001b[0mreplace\u001b[0m\u001b[0;34m(\u001b[0m\u001b[0;34m\"\\n  \"\u001b[0m\u001b[0;34m,\u001b[0m\u001b[0;34m\"\\n\"\u001b[0m\u001b[0;34m)\u001b[0m\u001b[0;34m[\u001b[0m\u001b[0;34m:\u001b[0m\u001b[0;34m]\u001b[0m\u001b[0;34m\u001b[0m\u001b[0;34m\u001b[0m\u001b[0m\n\u001b[0;32m---> 34\u001b[0;31m         \u001b[0;32mwith\u001b[0m \u001b[0mopen\u001b[0m\u001b[0;34m(\u001b[0m\u001b[0mparent_dir\u001b[0m \u001b[0;34m+\u001b[0m \u001b[0;34m'/spec_lib/cal/'\u001b[0m\u001b[0;34m+\u001b[0m\u001b[0mspec_name\u001b[0m\u001b[0;34m+\u001b[0m\u001b[0;34m\"/\"\u001b[0m \u001b[0;34m+\u001b[0m\u001b[0mstr\u001b[0m\u001b[0;34m(\u001b[0m\u001b[0mdatetime\u001b[0m\u001b[0;34m.\u001b[0m\u001b[0mdate\u001b[0m\u001b[0;34m.\u001b[0m\u001b[0mtoday\u001b[0m\u001b[0;34m(\u001b[0m\u001b[0;34m)\u001b[0m\u001b[0;34m)\u001b[0m \u001b[0;34m+\u001b[0m\u001b[0;34m\"-\"\u001b[0m\u001b[0;34m+\u001b[0m \u001b[0mconfig_name\u001b[0m \u001b[0;34m+\u001b[0m \u001b[0;34m'.cal'\u001b[0m\u001b[0;34m,\u001b[0m \u001b[0;34m'w'\u001b[0m\u001b[0;34m)\u001b[0m \u001b[0;32mas\u001b[0m \u001b[0mf\u001b[0m\u001b[0;34m:\u001b[0m\u001b[0;34m\u001b[0m\u001b[0;34m\u001b[0m\u001b[0m\n\u001b[0m\u001b[1;32m     35\u001b[0m             \u001b[0;32mfor\u001b[0m \u001b[0m_\u001b[0m \u001b[0;32min\u001b[0m \u001b[0mrange\u001b[0m\u001b[0;34m(\u001b[0m\u001b[0;36m9\u001b[0m\u001b[0;34m)\u001b[0m\u001b[0;34m:\u001b[0m\u001b[0;34m\u001b[0m\u001b[0;34m\u001b[0m\u001b[0m\n\u001b[1;32m     36\u001b[0m                 \u001b[0mf\u001b[0m\u001b[0;34m.\u001b[0m\u001b[0mwrite\u001b[0m\u001b[0;34m(\u001b[0m\u001b[0;34m\"\\n\"\u001b[0m\u001b[0;34m)\u001b[0m\u001b[0;34m\u001b[0m\u001b[0;34m\u001b[0m\u001b[0m\n",
      "\u001b[0;31mPermissionError\u001b[0m: [Errno 13] Permission denied: '/home/ciber2/python/main/calibration/spec_reader/spec_lib/cal/specOI/2021-07-08-cossp2-F1.cal'"
     ]
    }
   ],
   "source": [
    "import numpy as np\n",
    "import csv\n",
    "from scipy import interpolate\n",
    "import os\n",
    "import glob\n",
    "import spec_reader\n",
    "import datetime\n",
    "import pathlib\n",
    "import importlib\n",
    "importlib.reload(spec_reader.spec_calibration)\n",
    "importlib.reload(spec_reader.irradiance)\n",
    "\n",
    "\n",
    "home_directory = os.environ['HOME']\n",
    "datadirectory = home_directory + '/spectrometer/spectrometerOI/SL/20210118/cosSp2-L1/0deg/'\n",
    "\n",
    "measuredFiles = glob.glob(datadirectory +\"3ms*\")\n",
    "print(measuredFiles)\n",
    "bgFiles = glob.glob(datadirectory +\"BG_3ms*\")\n",
    "cal_class = spec_reader.spec_calibration.CalibrationClass(measuredFiles,bgFiles,)\n",
    "cal_class.saveCF(\"specOI\",\"cossp2-L1\")\n",
    "# /Volumes/ciber2/python/main/calibration/spec_reader/spec_lib/cal/specOI/2021-07-07-cossp2-F1.cal\n",
    "#    /home/ciber2/python/main/calibration/spec_reader/spec_lib/cal/specOI/2021-07-08-cossp2-F1.cal"
   ]
  },
  {
   "cell_type": "code",
   "execution_count": 3,
   "id": "451e3048",
   "metadata": {},
   "outputs": [
    {
     "name": "stdout",
     "output_type": "stream",
     "text": [
      "[5.8267547e-06 5.9975546e-06 6.1688515e-06 ... 7.4690935e-05 7.4712443e-05\n",
      " 7.4733951e-05]\n"
     ]
    },
    {
     "data": {
      "text/plain": [
       "(<Figure size 432x288 with 1 Axes>,\n",
       " <AxesSubplot:xlabel='wavelength[nm]', ylabel='Absolute Irradiance [W/m^2/nm]'>)"
      ]
     },
     "execution_count": 3,
     "metadata": {},
     "output_type": "execute_result"
    },
    {
     "data": {
      "image/png": "[encoded data removed]",
      "text/plain": [
       "<Figure size 432x288 with 1 Axes>"
      ]
     },
     "metadata": {
      "needs_background": "light"
     },
     "output_type": "display_data"
    }
   ],
   "source": [
    "\n",
    "home_directory = os.environ['HOME']\n",
    "datadirectory = home_directory + '/spectrometer/spectrometerOI/SL/20210525/cossp2-F1/'\n",
    "measuredFiles = glob.glob(datadirectory +\"0deg*\")\n",
    "bgFiles = glob.glob(datadirectory +\"BG_0deg*\")\n",
    "baffle = spec_reader.angle_function.BaffleClass('sp1_base.csv','sp1_base.csv')\n",
    "\n",
    "cal_file = \"specOI/2021-07-07-cossp2-F1.cal\"\n",
    "irradiance_data = spec_reader.irradiance.IrradianceClass(measuredFiles,bgFiles,baffle = baffle,cal_file=cal_file)\n",
    "irradiance_data.show_wave_and_irradiance()\n"
   ]
  },
  {
   "cell_type": "code",
   "execution_count": 4,
   "id": "eff6c953",
   "metadata": {},
   "outputs": [
    {
     "name": "stdout",
     "output_type": "stream",
     "text": [
      "no files\n"
     ]
    },
    {
     "ename": "UnboundLocalError",
     "evalue": "local variable 't' referenced before assignment",
     "output_type": "error",
     "traceback": [
      "\u001b[0;31m---------------------------------------------------------------------------\u001b[0m",
      "\u001b[0;31mUnboundLocalError\u001b[0m                         Traceback (most recent call last)",
      "\u001b[0;32m<ipython-input-4-cd6904683a77>\u001b[0m in \u001b[0;36m<module>\u001b[0;34m\u001b[0m\n\u001b[1;32m      5\u001b[0m \u001b[0;34m\u001b[0m\u001b[0m\n\u001b[1;32m      6\u001b[0m \u001b[0mcal_file\u001b[0m \u001b[0;34m=\u001b[0m \u001b[0;34m\"specOI/2021-07-07-cossp2-F1.cal\"\u001b[0m\u001b[0;34m\u001b[0m\u001b[0;34m\u001b[0m\u001b[0m\n\u001b[0;32m----> 7\u001b[0;31m \u001b[0mirradiance_data\u001b[0m \u001b[0;34m=\u001b[0m \u001b[0mspec_reader\u001b[0m\u001b[0;34m.\u001b[0m\u001b[0mirradiance\u001b[0m\u001b[0;34m.\u001b[0m\u001b[0mIrradianceClass\u001b[0m\u001b[0;34m(\u001b[0m\u001b[0mmeasuredFiles\u001b[0m\u001b[0;34m,\u001b[0m\u001b[0mbgFiles\u001b[0m\u001b[0;34m,\u001b[0m\u001b[0mbaffle\u001b[0m \u001b[0;34m=\u001b[0m \u001b[0mbaffle\u001b[0m\u001b[0;34m,\u001b[0m\u001b[0mcal_file\u001b[0m\u001b[0;34m=\u001b[0m\u001b[0mcal_file\u001b[0m\u001b[0;34m)\u001b[0m\u001b[0;34m\u001b[0m\u001b[0;34m\u001b[0m\u001b[0m\n\u001b[0m\u001b[1;32m      8\u001b[0m \u001b[0mirradiance_data\u001b[0m\u001b[0;34m.\u001b[0m\u001b[0mshow_wave_and_irradiance\u001b[0m\u001b[0;34m(\u001b[0m\u001b[0;34m)\u001b[0m\u001b[0;34m\u001b[0m\u001b[0;34m\u001b[0m\u001b[0m\n",
      "\u001b[0;32m~/python/main/calibration/spec_reader/irradiance.py\u001b[0m in \u001b[0;36m__init__\u001b[0;34m(self, measuredFiles, bgFiles, baffle, cal_file)\u001b[0m\n\u001b[1;32m     19\u001b[0m         \u001b[0mcal\u001b[0m \u001b[0;34m=\u001b[0m \u001b[0mself\u001b[0m\u001b[0;34m.\u001b[0m\u001b[0m_set_cal\u001b[0m\u001b[0;34m(\u001b[0m\u001b[0mcal_file\u001b[0m\u001b[0;34m)\u001b[0m\u001b[0;34m\u001b[0m\u001b[0;34m\u001b[0m\u001b[0m\n\u001b[1;32m     20\u001b[0m         \u001b[0;31m# self.cal = cal\u001b[0m\u001b[0;34m\u001b[0m\u001b[0;34m\u001b[0m\u001b[0;34m\u001b[0m\u001b[0m\n\u001b[0;32m---> 21\u001b[0;31m         \u001b[0mself\u001b[0m\u001b[0;34m.\u001b[0m\u001b[0mwaves\u001b[0m\u001b[0;34m,\u001b[0m\u001b[0mself\u001b[0m\u001b[0;34m.\u001b[0m\u001b[0mirradiance\u001b[0m \u001b[0;34m=\u001b[0m \u001b[0mself\u001b[0m\u001b[0;34m.\u001b[0m\u001b[0m_calc_wave_and_irradiance\u001b[0m\u001b[0;34m(\u001b[0m\u001b[0;34m)\u001b[0m\u001b[0;34m\u001b[0m\u001b[0;34m\u001b[0m\u001b[0m\n\u001b[0m\u001b[1;32m     22\u001b[0m \u001b[0;34m\u001b[0m\u001b[0m\n\u001b[1;32m     23\u001b[0m     \u001b[0;32mdef\u001b[0m \u001b[0m_calc_wave_and_irradiance\u001b[0m\u001b[0;34m(\u001b[0m\u001b[0mself\u001b[0m\u001b[0;34m)\u001b[0m\u001b[0;34m:\u001b[0m\u001b[0;34m\u001b[0m\u001b[0;34m\u001b[0m\u001b[0m\n",
      "\u001b[0;32m~/python/main/calibration/spec_reader/irradiance.py\u001b[0m in \u001b[0;36m_calc_wave_and_irradiance\u001b[0;34m(self)\u001b[0m\n\u001b[1;32m     22\u001b[0m \u001b[0;34m\u001b[0m\u001b[0m\n\u001b[1;32m     23\u001b[0m     \u001b[0;32mdef\u001b[0m \u001b[0m_calc_wave_and_irradiance\u001b[0m\u001b[0;34m(\u001b[0m\u001b[0mself\u001b[0m\u001b[0;34m)\u001b[0m\u001b[0;34m:\u001b[0m\u001b[0;34m\u001b[0m\u001b[0;34m\u001b[0m\u001b[0m\n\u001b[0;32m---> 24\u001b[0;31m         \u001b[0mintegratedTime\u001b[0m\u001b[0;34m,\u001b[0m\u001b[0mwaves\u001b[0m\u001b[0;34m,\u001b[0m\u001b[0mcounts\u001b[0m \u001b[0;34m=\u001b[0m \u001b[0mspec_reader\u001b[0m\u001b[0;34m.\u001b[0m\u001b[0mread_data_set\u001b[0m\u001b[0;34m(\u001b[0m\u001b[0mself\u001b[0m\u001b[0;34m.\u001b[0m\u001b[0mmeasuredFiles\u001b[0m\u001b[0;34m)\u001b[0m\u001b[0;34m\u001b[0m\u001b[0;34m\u001b[0m\u001b[0m\n\u001b[0m\u001b[1;32m     25\u001b[0m         \u001b[0mintegratedTime\u001b[0m\u001b[0;34m,\u001b[0m\u001b[0mwaves\u001b[0m\u001b[0;34m,\u001b[0m\u001b[0mcountsOfBg\u001b[0m \u001b[0;34m=\u001b[0m \u001b[0mspec_reader\u001b[0m\u001b[0;34m.\u001b[0m\u001b[0mread_data_set\u001b[0m\u001b[0;34m(\u001b[0m\u001b[0mself\u001b[0m\u001b[0;34m.\u001b[0m\u001b[0mbgFiles\u001b[0m\u001b[0;34m)\u001b[0m\u001b[0;34m\u001b[0m\u001b[0;34m\u001b[0m\u001b[0m\n\u001b[1;32m     26\u001b[0m         \u001b[0mmeasuredCounts\u001b[0m \u001b[0;34m=\u001b[0m \u001b[0mcounts\u001b[0m \u001b[0;34m-\u001b[0m \u001b[0mcountsOfBg\u001b[0m\u001b[0;34m\u001b[0m\u001b[0;34m\u001b[0m\u001b[0m\n",
      "\u001b[0;32m~/python/main/calibration/spec_reader/spec_reader.py\u001b[0m in \u001b[0;36mread_data_set\u001b[0;34m(files)\u001b[0m\n\u001b[1;32m     26\u001b[0m         \u001b[0my_np\u001b[0m\u001b[0;34m[\u001b[0m\u001b[0mi\u001b[0m\u001b[0;34m]\u001b[0m \u001b[0;34m=\u001b[0m \u001b[0my\u001b[0m\u001b[0;34m\u001b[0m\u001b[0;34m\u001b[0m\u001b[0m\n\u001b[1;32m     27\u001b[0m \u001b[0;34m\u001b[0m\u001b[0m\n\u001b[0;32m---> 28\u001b[0;31m     \u001b[0;32mreturn\u001b[0m \u001b[0mt\u001b[0m\u001b[0;34m,\u001b[0m\u001b[0mx\u001b[0m\u001b[0;34m,\u001b[0m\u001b[0mnp\u001b[0m\u001b[0;34m.\u001b[0m\u001b[0maverage\u001b[0m\u001b[0;34m(\u001b[0m\u001b[0my_np\u001b[0m\u001b[0;34m,\u001b[0m\u001b[0maxis\u001b[0m\u001b[0;34m=\u001b[0m\u001b[0;36m0\u001b[0m\u001b[0;34m)\u001b[0m\u001b[0;34m\u001b[0m\u001b[0;34m\u001b[0m\u001b[0m\n\u001b[0m\u001b[1;32m     29\u001b[0m \u001b[0;34m\u001b[0m\u001b[0m\n\u001b[1;32m     30\u001b[0m \u001b[0;32mdef\u001b[0m \u001b[0mcsv_to_np\u001b[0m\u001b[0;34m(\u001b[0m\u001b[0mfile\u001b[0m\u001b[0;34m,\u001b[0m\u001b[0misHeaderExist\u001b[0m\u001b[0;34m=\u001b[0m\u001b[0;32mFalse\u001b[0m\u001b[0;34m)\u001b[0m\u001b[0;34m:\u001b[0m\u001b[0;34m\u001b[0m\u001b[0;34m\u001b[0m\u001b[0m\n",
      "\u001b[0;31mUnboundLocalError\u001b[0m: local variable 't' referenced before assignment"
     ]
    }
   ],
   "source": [
    "datadirectory = home_directory + '/spectrometer/spectrometerOI/BB/20201217/1100K/LONG-COSsp1-L1/'\n",
    "measuredFiles = glob.glob(datadirectory +\"long*\")\n",
    "bgFiles = glob.glob(datadirectory +\"BG*\")\n",
    "baffle = spec_reader.angle_function.BaffleClass('sp1_base.csv','sp1_base.csv')\n",
    "\n",
    "cal_file = \"specOI/2021-07-07-cossp2-F1.cal\"\n",
    "irradiance_data = spec_reader.irradiance.IrradianceClass(measuredFiles,bgFiles,baffle = baffle,cal_file=cal_file)\n",
    "irradiance_data.show_wave_and_irradiance()"
   ]
  },
  {
   "cell_type": "code",
   "execution_count": null,
   "id": "209b688a",
   "metadata": {},
   "outputs": [],
   "source": []
  }
 ],
 "metadata": {
  "kernelspec": {
   "display_name": "Python 3",
   "language": "python",
   "name": "python3"
  },
  "language_info": {
   "codemirror_mode": {
    "name": "ipython",
    "version": 3
   },
   "file_extension": ".py",
   "mimetype": "text/x-python",
   "name": "python",
   "nbconvert_exporter": "python",
   "pygments_lexer": "ipython3",
   "version": "3.6.8"
  }
 },
 "nbformat": 4,
 "nbformat_minor": 5
}
