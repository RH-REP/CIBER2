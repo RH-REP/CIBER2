{
 "cells": [
  {
   "cell_type": "code",
   "execution_count": 1,
   "id": "ffcf7b70",
   "metadata": {},
   "outputs": [
    {
     "data": {
      "image/png": "[encoded data removed]",
      "text/plain": [
       "<Figure size 432x288 with 1 Axes>"
      ]
     },
     "metadata": {
      "needs_background": "light"
     },
     "output_type": "display_data"
    }
   ],
   "source": [
    "import os\n",
    "import pandas as pd\n",
    "import numpy as np\n",
    "import matplotlib.pyplot as plt\n",
    "home_directory = os.environ['HOME']\n",
    "data_folder = home_directory + \"/Data/spectrometer/LS_scan/Spectrometer_Readings_01312022\"\n",
    "\n",
    "\n",
    "file = data_folder +\"/Data_Map.xlsx\"\n",
    "\n",
    "df = pd.read_excel(file,engine=\"openpyxl\")\n",
    "scan_map_index = np.array(df,)\n",
    "data_map = np.zeros(np.shape(scan_map_index))\n",
    "data_std_map = np.zeros(np.shape(scan_map_index))\n",
    "# print(scan_map_index)\n",
    "# print(data_map)\n",
    "\n",
    "\n",
    "ind = np.where(scan_map_index ==5)\n",
    "# data_map[ind] = 1\n",
    "# print(data_map)\n",
    "\n",
    "plt.imshow(data_map)\n",
    "plt.show()\n",
    "\n"
   ]
  },
  {
   "cell_type": "code",
   "execution_count": 2,
   "id": "22653a1a",
   "metadata": {},
   "outputs": [
    {
     "name": "stdout",
     "output_type": "stream",
     "text": [
      "(array([], dtype=int64), array([], dtype=int64))\n"
     ]
    },
    {
     "data": {
      "text/plain": [
       "array([5.])"
      ]
     },
     "execution_count": 2,
     "metadata": {},
     "output_type": "execute_result"
    }
   ],
   "source": [
    "print(np.where(scan_map_index ==np.nan))\n",
    "\n",
    "ind = np.where(scan_map_index ==5)\n",
    "scan_map_index[ind]"
   ]
  },
  {
   "cell_type": "code",
   "execution_count": 3,
   "id": "feec0021",
   "metadata": {},
   "outputs": [
    {
     "name": "stdout",
     "output_type": "stream",
     "text": [
      "['/home/ciber2/Data/spectrometer/LS_scan/Spectrometer_Readings_01312022/Light/1_FLMS143431_09-57-17-611.txt', '/home/ciber2/Data/spectrometer/LS_scan/Spectrometer_Readings_01312022/Light/1_FLMS143431_09-57-27-611.txt', '/home/ciber2/Data/spectrometer/LS_scan/Spectrometer_Readings_01312022/Light/1_FLMS143431_09-57-37-610.txt']\n",
      "['/home/ciber2/Data/spectrometer/LS_scan/Spectrometer_Readings_01312022/Dark/1_FLMS143431_09-58-47-608.txt']\n"
     ]
    }
   ],
   "source": [
    "import glob\n",
    "\n",
    "\n",
    "data_files = sorted(glob.glob(data_folder+\"/Light/*\"),reverse=True)\n",
    "str_set = set()\n",
    "for f in data_files:\n",
    "    str_set.add(int(f.split('/')[-1].split('_')[0]))\n",
    "indexes = sorted(str_set)\n",
    "\n",
    "light_data_dict = {}\n",
    "dark_data_dict = {}\n",
    "for i in sorted(str_set):\n",
    "    number_str = str(i)\n",
    "    one_exp_files = sorted(glob.glob(data_folder+\"/Light/\" + number_str+ \"_*\"))\n",
    "    one_exp_dark_files = sorted(glob.glob(data_folder+\"/Dark/\" + number_str+ \"_*\"))\n",
    "    light_data_dict[i] = one_exp_files\n",
    "    dark_data_dict[i] = one_exp_dark_files\n",
    "    \n",
    "    \n",
    "print(light_data_dict[1])\n",
    "print(dark_data_dict[1])\n",
    "#     print(one_exp_files)"
   ]
  },
  {
   "cell_type": "code",
   "execution_count": 4,
   "id": "49c0ccad",
   "metadata": {},
   "outputs": [
    {
     "data": {
      "text/plain": [
       "Text(0, 0.5, 'count')"
      ]
     },
     "execution_count": 4,
     "metadata": {},
     "output_type": "execute_result"
    },
    {
     "data": {
      "image/png": "[encoded data removed]",
      "text/plain": [
       "<Figure size 432x288 with 1 Axes>"
      ]
     },
     "metadata": {
      "needs_background": "light"
     },
     "output_type": "display_data"
    }
   ],
   "source": [
    "import matplotlib.pyplot as plt\n",
    "from spec_reader import spec_reader\n",
    "\n",
    "_,wave,count =spec_reader.read_data_set(light_data_dict[1])\n",
    "_,wave,count_bg =spec_reader.read_data_set(dark_data_dict[1])\n",
    "fig,ax = plt.subplots()\n",
    "ax.scatter(wave,count-count_bg)\n",
    "ax.set_xlabel(\"wavelength\")\n",
    "ax.set_ylabel(\"count\")"
   ]
  },
  {
   "cell_type": "code",
   "execution_count": 5,
   "id": "8d88770e",
   "metadata": {},
   "outputs": [],
   "source": [
    "import numpy as np\n",
    "for i in sorted(str_set):\n",
    "#     print(i)\n",
    "    _,waves,count_light =spec_reader.read_data_set(light_data_dict[i])\n",
    "    _,_,count_dark =spec_reader.read_data_set(dark_data_dict[i])\n",
    "    peak_cut_data = (count_light-count_dark)[500:1000]\n",
    "    ind = np.where(scan_map_index ==i)\n",
    "    data_map[ind] = np.nanmean(peak_cut_data)\n",
    "    data_std_map[ind] = np.std(peak_cut_data)\n",
    "# plt.imshow(data_map)\n",
    "# plt.show()                        \n",
    "#     print(np.nanmean(peak_cut_data)\n"
   ]
  },
  {
   "cell_type": "code",
   "execution_count": 6,
   "id": "b3b34af8",
   "metadata": {},
   "outputs": [
    {
     "data": {
      "text/plain": [
       "Text(0.5, 1.0, 'count map')"
      ]
     },
     "execution_count": 6,
     "metadata": {},
     "output_type": "execute_result"
    },
    {
     "data": {
      "image/png": "[encoded data removed]",
      "text/plain": [
       "<Figure size 432x288 with 2 Axes>"
      ]
     },
     "metadata": {
      "needs_background": "light"
     },
     "output_type": "display_data"
    }
   ],
   "source": [
    "fig,ax = plt.subplots()\n",
    "im = ax.imshow(data_map/np.max(data_map),vmin=0.90,cmap='jet')\n",
    "fig.colorbar(im, ax=ax)\n",
    "ax.set_title(\"count map\")"
   ]
  },
  {
   "cell_type": "code",
   "execution_count": 7,
   "id": "b723f29e",
   "metadata": {},
   "outputs": [
    {
     "data": {
      "text/plain": [
       "array([698.96600342, 699.31298828, 699.65899658, 700.00500488,\n",
       "       700.35101318, 700.69799805, 701.04400635, 701.39001465,\n",
       "       701.73602295, 702.08197021, 702.42797852, 702.77301025,\n",
       "       703.11901855, 703.46502686, 703.81097412, 704.15600586,\n",
       "       704.50201416, 704.84698486, 705.19299316, 705.5380249 ,\n",
       "       705.88397217, 706.22900391, 706.57397461, 706.91900635,\n",
       "       707.26501465, 707.60998535, 707.95501709, 708.29998779,\n",
       "       708.64501953, 708.98999023, 709.33398438, 709.67901611,\n",
       "       710.02398682, 710.36901855, 710.7130127 , 711.0579834 ,\n",
       "       711.40197754, 711.74700928, 712.09100342, 712.43597412,\n",
       "       712.7800293 , 713.12402344, 713.46801758, 713.81298828,\n",
       "       714.15698242, 714.50097656, 714.8449707 , 715.18902588,\n",
       "       715.53302002, 715.87597656, 716.2199707 , 716.56402588,\n",
       "       716.90802002, 717.25097656, 717.5949707 , 717.93798828,\n",
       "       718.28198242, 718.625     , 718.96899414, 719.31201172,\n",
       "       719.6550293 , 719.99798584, 720.34197998, 720.68499756,\n",
       "       721.02801514, 721.37097168, 721.71398926, 722.05700684,\n",
       "       722.39898682, 722.74200439, 723.08502197, 723.42797852,\n",
       "       723.77001953, 724.11297607, 724.45501709, 724.79797363,\n",
       "       725.14001465, 725.48297119, 725.82501221, 726.16699219,\n",
       "       726.50897217, 726.85198975, 727.19396973, 727.53601074,\n",
       "       727.87799072, 728.2199707 , 728.56201172, 728.90301514,\n",
       "       729.24499512, 729.5869751 , 729.92901611, 730.27001953,\n",
       "       730.61199951, 730.95300293, 731.29498291, 731.63598633,\n",
       "       731.97802734, 732.31896973, 732.65997314, 733.00201416,\n",
       "       733.34301758, 733.684021  , 734.02502441, 734.36602783,\n",
       "       734.70697021, 735.04797363, 735.38897705, 735.72900391,\n",
       "       736.07000732, 736.41101074, 736.75097656, 737.09197998,\n",
       "       737.4329834 , 737.77301025, 738.11297607, 738.45397949,\n",
       "       738.79400635, 739.13397217, 739.47497559, 739.81500244,\n",
       "       740.1550293 , 740.49499512, 740.83502197, 741.17498779,\n",
       "       741.51501465, 741.85498047, 742.19396973, 742.53399658,\n",
       "       742.87402344, 743.21398926, 743.55297852, 743.89300537,\n",
       "       744.23199463, 744.57202148, 744.91101074, 745.25      ,\n",
       "       745.59002686, 745.92901611, 746.26800537, 746.60699463,\n",
       "       746.94598389, 747.28497314, 747.62402344, 747.9630127 ,\n",
       "       748.30200195, 748.64099121, 748.97900391, 749.31799316,\n",
       "       749.65698242, 749.99499512, 750.33398438, 750.67199707,\n",
       "       751.01098633, 751.34899902, 751.68701172, 752.02600098,\n",
       "       752.36401367, 752.70202637, 753.03997803, 753.37799072,\n",
       "       753.71600342, 754.05401611, 754.39202881, 754.72998047,\n",
       "       755.06799316, 755.40600586, 755.74298096, 756.08099365,\n",
       "       756.41802979, 756.75598145, 757.09301758, 757.43103027,\n",
       "       757.76800537, 758.10601807, 758.44299316, 758.7800293 ,\n",
       "       759.11700439, 759.45397949, 759.79101562, 760.12799072,\n",
       "       760.46502686, 760.80200195, 761.13897705, 761.47601318,\n",
       "       761.81298828, 762.14898682, 762.48602295, 762.82299805,\n",
       "       763.15899658, 763.49597168, 763.83197021, 764.16900635,\n",
       "       764.50500488, 764.84100342, 765.17700195, 765.51397705,\n",
       "       765.84997559, 766.18597412, 766.52197266, 766.85797119,\n",
       "       767.19396973, 767.5289917 , 767.86499023, 768.20098877,\n",
       "       768.5369873 , 768.87200928, 769.20800781, 769.54302979,\n",
       "       769.87902832, 770.21398926, 770.54998779, 770.88500977,\n",
       "       771.2199707 , 771.55603027, 771.89099121, 772.22601318,\n",
       "       772.56097412, 772.89599609, 773.23101807, 773.565979  ,\n",
       "       773.90100098, 774.23498535, 774.57000732, 774.9050293 ,\n",
       "       775.23999023, 775.57397461, 775.90899658, 776.24298096,\n",
       "       776.57800293, 776.9119873 , 777.24597168, 777.58099365,\n",
       "       777.91497803, 778.24902344, 778.58300781, 778.91699219,\n",
       "       779.25097656, 779.58502197, 779.91900635, 780.25299072,\n",
       "       780.5869751 , 780.92102051, 781.25402832, 781.5880127 ,\n",
       "       781.92102051, 782.25500488, 782.5880127 , 782.92199707,\n",
       "       783.25500488, 783.58898926, 783.92199707, 784.25500488,\n",
       "       784.5880127 , 784.92102051, 785.25500488, 785.5880127 ,\n",
       "       785.91998291, 786.25299072, 786.58599854, 786.91900635,\n",
       "       787.25201416, 787.58502197, 787.91699219, 788.25      ,\n",
       "       788.58197021, 788.91497803, 789.24700928, 789.58001709,\n",
       "       789.9119873 , 790.24401855, 790.57598877, 790.90899658,\n",
       "       791.24102783, 791.57299805, 791.9050293 , 792.23699951,\n",
       "       792.56896973, 792.90100098, 793.23199463, 793.56402588,\n",
       "       793.89599609, 794.22802734, 794.559021  , 794.89099121,\n",
       "       795.22198486, 795.55401611, 795.88500977, 796.21600342,\n",
       "       796.54797363, 796.87902832, 797.21002197, 797.54101562,\n",
       "       797.87200928, 798.20300293, 798.53399658, 798.86499023,\n",
       "       799.19598389, 799.52697754, 799.85797119, 800.18798828,\n",
       "       800.51898193, 800.84899902, 801.17999268, 801.51098633,\n",
       "       801.84100342, 802.17102051, 802.50201416, 802.83197021,\n",
       "       803.1619873 , 803.49200439, 803.82299805, 804.15301514,\n",
       "       804.48297119, 804.81298828, 805.14202881, 805.47198486,\n",
       "       805.80200195, 806.13201904, 806.4619751 , 806.79101562,\n",
       "       807.12097168, 807.45001221, 807.7800293 , 808.10900879,\n",
       "       808.43902588, 808.76800537, 809.09698486, 809.42700195,\n",
       "       809.75598145, 810.08502197, 810.41400146, 810.74298096,\n",
       "       811.07202148, 811.40100098, 811.72998047, 812.059021  ,\n",
       "       812.38702393, 812.71600342, 813.04498291, 813.37298584,\n",
       "       813.70202637, 814.0300293 , 814.35900879, 814.68701172,\n",
       "       815.01599121, 815.34399414, 815.67199707, 816.        ,\n",
       "       816.32800293, 816.65600586, 816.98400879, 817.31201172,\n",
       "       817.64001465, 817.96801758, 818.29602051, 818.62402344,\n",
       "       818.95098877, 819.2789917 , 819.60699463, 819.934021  ,\n",
       "       820.26202393, 820.58898926, 820.91699219, 821.24401855,\n",
       "       821.57098389, 821.89898682, 822.22601318, 822.55297852,\n",
       "       822.88000488, 823.20697021, 823.53399658, 823.86102295,\n",
       "       824.18798828, 824.51501465, 824.84100342, 825.16802979,\n",
       "       825.49499512, 825.82098389, 826.14801025, 826.47399902,\n",
       "       826.80102539, 827.12701416, 827.45300293, 827.7800293 ,\n",
       "       828.10601807, 828.43200684, 828.75799561, 829.08398438,\n",
       "       829.40997314, 829.73602295, 830.06201172, 830.38800049,\n",
       "       830.71398926, 831.03997803, 831.36499023, 831.690979  ,\n",
       "       832.01702881, 832.34197998, 832.66802979, 832.99298096,\n",
       "       833.31896973, 833.64398193, 833.96899414, 834.29498291,\n",
       "       834.61999512, 834.94500732, 835.27001953, 835.5949707 ,\n",
       "       835.91998291, 836.24499512, 836.57000732, 836.89501953,\n",
       "       837.21899414, 837.54400635, 837.86901855, 838.19299316,\n",
       "       838.51800537, 838.84197998, 839.16699219, 839.49102783,\n",
       "       839.815979  , 840.14001465, 840.46398926, 840.7880249 ,\n",
       "       841.11199951, 841.43597412, 841.76098633, 842.08398438,\n",
       "       842.40802002, 842.73199463, 843.05603027, 843.38000488,\n",
       "       843.70397949, 844.02697754, 844.35101318, 844.67401123,\n",
       "       844.99798584, 845.32098389, 845.64501953, 845.96801758,\n",
       "       846.29101562, 846.61499023, 846.93798828, 847.26098633,\n",
       "       847.58398438, 847.90698242, 848.22998047, 848.55297852,\n",
       "       848.87597656, 849.19897461, 849.52099609, 849.84399414,\n",
       "       850.16699219, 850.48901367, 850.81201172, 851.13500977,\n",
       "       851.45697021, 851.7789917 , 852.10198975, 852.42401123,\n",
       "       852.74597168, 853.06799316, 853.39099121, 853.7130127 ,\n",
       "       854.03497314, 854.35699463, 854.67901611, 855.        ,\n",
       "       855.32202148, 855.64398193, 855.96600342, 856.2869873 ,\n",
       "       856.60900879, 856.93103027, 857.25201416, 857.57397461,\n",
       "       857.89501953, 858.21600342, 858.5380249 , 858.85900879,\n",
       "       859.17999268, 859.50097656, 859.82202148, 860.14300537,\n",
       "       860.46398926, 860.78497314, 861.10601807, 861.42700195,\n",
       "       861.74798584, 862.06799316, 862.38897705, 862.71002197,\n",
       "       863.0300293 , 863.35101318, 863.67102051, 863.99200439,\n",
       "       864.31201172, 864.63201904, 864.95300293, 865.27301025])"
      ]
     },
     "execution_count": 7,
     "metadata": {},
     "output_type": "execute_result"
    }
   ],
   "source": [
    "waves[500:1000]"
   ]
  },
  {
   "cell_type": "code",
   "execution_count": 8,
   "id": "c5c6148c",
   "metadata": {},
   "outputs": [
    {
     "name": "stderr",
     "output_type": "stream",
     "text": [
      "/usr/local/lib/python3.6/site-packages/ipykernel_launcher.py:2: RuntimeWarning: invalid value encountered in true_divide\n",
      "  \n"
     ]
    },
    {
     "data": {
      "text/plain": [
       "Text(0.5, 1.0, 'std map')"
      ]
     },
     "execution_count": 8,
     "metadata": {},
     "output_type": "execute_result"
    },
    {
     "data": {
      "image/png": "[encoded data removed]",
      "text/plain": [
       "<Figure size 432x288 with 2 Axes>"
      ]
     },
     "metadata": {
      "needs_background": "light"
     },
     "output_type": "display_data"
    }
   ],
   "source": [
    "fig,ax = plt.subplots()\n",
    "im = ax.imshow(data_std_map/data_map,cmap='jet')\n",
    "fig.colorbar(im, ax=ax)\n",
    "ax.set_title(\"std map\")\n"
   ]
  },
  {
   "cell_type": "code",
   "execution_count": 33,
   "id": "6f1bb649",
   "metadata": {},
   "outputs": [
    {
     "name": "stdout",
     "output_type": "stream",
     "text": [
      "[0.3152876  0.315581   0.31587383 ... 0.13136104 0.13109607 0.13083103]\n"
     ]
    },
    {
     "data": {
      "text/plain": [
       "(0.0, 0.5)"
      ]
     },
     "execution_count": 33,
     "metadata": {},
     "output_type": "execute_result"
    },
    {
     "data": {
      "image/png": "[encoded data removed]",
      "text/plain": [
       "<Figure size 720x576 with 2 Axes>"
      ]
     },
     "metadata": {
      "needs_background": "light"
     },
     "output_type": "display_data"
    }
   ],
   "source": [
    "import os\n",
    "import pandas as pd\n",
    "import numpy as np\n",
    "import matplotlib.pyplot as plt\n",
    "import glob\n",
    "from spec_reader import spec_reader\n",
    "import importlib\n",
    "importlib.reload(spec_reader)\n",
    "import math\n",
    "\n",
    "\"\"\"\n",
    "for LS out put\n",
    "\"\"\"\n",
    "home_directory = os.environ['HOME']\n",
    "data_folder = home_directory + \"/Data/spectrometer/LS_scan/Spectrometer_Readings_01312022\"\n",
    "data_files = sorted(glob.glob(data_folder+\"/Light/*\"),reverse=True)\n",
    "str_set = set()\n",
    "for f in data_files:\n",
    "    str_set.add(int(f.split('/')[-1].split('_')[0]))\n",
    "indexes = sorted(str_set)\n",
    "\n",
    "light_data_dict = {}\n",
    "dark_data_dict = {}\n",
    "for i in sorted(str_set):\n",
    "    number_str = str(i)\n",
    "    one_exp_files = sorted(glob.glob(data_folder+\"/Light/\" + number_str+ \"_*\"))\n",
    "    one_exp_dark_files = sorted(glob.glob(data_folder+\"/Dark/\" + number_str+ \"_*\"))\n",
    "    light_data_dict[i] = one_exp_files\n",
    "    dark_data_dict[i] = one_exp_dark_files\n",
    "\n",
    "wave,measured_cps_LS = spec_reader.get_cps_2(light_data_dict[110],dark_data_dict[110])\n",
    "\n",
    "fig,axs = plt.subplots(2,)\n",
    "fig.set_size_inches(10,8)\n",
    "\n",
    "ax = axs[0]\n",
    "measured_cps_times_aperture_LS = measured_cps_LS*(330**2*math.pi)\n",
    "ax.scatter(wave,measured_cps_times_aperture_LS,label=\"LS\")\n",
    "    \n",
    "    \n",
    "home_directory = os.environ['HOME']\n",
    "data_folder = home_directory + \"/Data/spectrometer/LS_scan/Small_Sphere_Readings_02062022\"\n",
    "\n",
    "light_data_SS = sorted(glob.glob(data_folder+\"/Light/*\"),reverse=True)\n",
    "dark_data_SS = sorted(glob.glob(data_folder+\"/Dark/*\"),reverse=True)\n",
    "\n",
    "wave,measured_cps_SS =  spec_reader.get_cps_2(light_data_SS,dark_data_SS)\n",
    "measured_cps_times_aperture_SS = measured_cps_SS*(25.4**2*math.pi) \n",
    "\n",
    "ax.scatter(wave,measured_cps_times_aperture_SS,label=\"SS\")\n",
    "ax.set_xlabel(\"wavelength\")\n",
    "ax.set_ylabel(\"cps times aperture size\")\n",
    "ax.legend()\n",
    "\n",
    "ax2 = axs[1]\n",
    "transparent = measured_cps_times_aperture_LS/measured_cps_times_aperture_SS\n",
    "ax2.scatter(wave,transparent,c='salmon',label=\"Spectrometer\")\n",
    "ax2.scatter(1225,0.258326669,c='black',label=\"InGaAs\")\n",
    "coe=np.polyfit(wave, transparent, 3)\n",
    "y = np.poly1d(coe)(wave)\n",
    "print(y)\n",
    "wave_binned = []\n",
    "ts_binned = []\n",
    "ts_tmp = []\n",
    "for i,t in enumerate(transparent):\n",
    "    ts_tmp.append(t)\n",
    "    if i%100 == 99:\n",
    "        wave_binned.append(wave[i-50])\n",
    "        ts_binned.append(np.average(ts_tmp))\n",
    "        ts_tmp = []\n",
    "\n",
    "ts_binned.append(0.258326669)\n",
    "wave_binned.append(1225)\n",
    "\n",
    "ts_binned_np = np.array(ts_binned)\n",
    "wave_binned_np = np.array(wave_binned)\n",
    "# print(ts_binned)\n",
    "# print(wave_binned)\n",
    "ax2.plot(wave_binned_np,ts_binned_np,c='red',label=\"100pix average\")\n",
    "# ax2.scatter(wave,y,c='maroon',label=\"Spectrometer\")\n",
    "# print(coe)\n",
    "ax2.legend()\n",
    "ax2.set_xlabel(\"wavelength\")\n",
    "ax2.set_ylabel(\"transparent\")\n",
    "ax2.set_ylim(0,0.5)\n"
   ]
  },
  {
   "cell_type": "code",
   "execution_count": null,
   "id": "8f82f24c",
   "metadata": {},
   "outputs": [],
   "source": [
    "\n",
    "    "
   ]
  },
  {
   "cell_type": "code",
   "execution_count": null,
   "id": "99242702",
   "metadata": {},
   "outputs": [],
   "source": []
  }
 ],
 "metadata": {
  "kernelspec": {
   "display_name": "Python 3",
   "language": "python",
   "name": "python3"
  },
  "language_info": {
   "codemirror_mode": {
    "name": "ipython",
    "version": 3
   },
   "file_extension": ".py",
   "mimetype": "text/x-python",
   "name": "python",
   "nbconvert_exporter": "python",
   "pygments_lexer": "ipython3",
   "version": "3.6.8"
  }
 },
 "nbformat": 4,
 "nbformat_minor": 5
}
